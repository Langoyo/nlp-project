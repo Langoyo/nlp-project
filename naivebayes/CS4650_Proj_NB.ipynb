{
  "nbformat": 4,
  "nbformat_minor": 0,
  "metadata": {
    "colab": {
      "name": "CS4650-Proj-NB.ipynb",
      "provenance": [],
      "collapsed_sections": []
    },
    "kernelspec": {
      "name": "python3",
      "display_name": "Python 3"
    },
    "language_info": {
      "name": "python"
    }
  },
  "cells": [
    {
      "cell_type": "code",
      "metadata": {
        "id": "57rb00OWxEW6"
      },
      "source": [
        "# Import from Drive\n",
        "!cp ./drive/MyDrive/Academics/CS4650/Project/train.csv .\n",
        "!cp ./drive/MyDrive/Academics/CS4650/Project/utils.py .\n",
        "# !cp ./drive/MyDrive/Academics/CS4650/Project/test.csv .\n",
        "# !cp ./drive/MyDrive/Academics/CS4650/Project/train_proc.csv ."
      ],
      "execution_count": 1,
      "outputs": []
    },
    {
      "cell_type": "code",
      "metadata": {
        "id": "Ak1n2Hfi-ZCo"
      },
      "source": [
        "%load_ext autoreload\n",
        "%autoreload 2"
      ],
      "execution_count": 2,
      "outputs": []
    },
    {
      "cell_type": "code",
      "metadata": {
        "id": "Hv00W88_y1-E"
      },
      "source": [
        "# Save to Drive\n",
        "!cp utils.py ./drive/MyDrive/Academics/CS4650/Project/utils.py\n",
        "# !cp train_proc.csv ./drive/MyDrive/Academics/CS4650/Project/train_proc.csv"
      ],
      "execution_count": null,
      "outputs": []
    },
    {
      "cell_type": "code",
      "metadata": {
        "id": "U4n78QZFA4qi"
      },
      "source": [
        "# !cp ./drive/MyDrive/Academics/CS4650/Project/train.pkl . "
      ],
      "execution_count": null,
      "outputs": []
    },
    {
      "cell_type": "code",
      "metadata": {
        "id": "vl3agRm069am"
      },
      "source": [
        "# train_df.to_pickle('./train.pkl')\n",
        "# !cp train.pkl ./drive/MyDrive/Academics/CS4650/Project/train.pkl"
      ],
      "execution_count": null,
      "outputs": []
    },
    {
      "cell_type": "code",
      "metadata": {
        "id": "1tdDK49Feb3_"
      },
      "source": [
        "# !cp test_proc.csv ./drive/MyDrive/Academics/CS4650/Project/test_proc.csv"
      ],
      "execution_count": null,
      "outputs": []
    },
    {
      "cell_type": "markdown",
      "metadata": {
        "id": "-7q8gccY09Rx"
      },
      "source": [
        "### First Steps\n",
        "\n",
        "- Parse data\n",
        "- Create representations\n",
        "- Train Naive Bayes on representations"
      ]
    },
    {
      "cell_type": "code",
      "metadata": {
        "colab": {
          "base_uri": "https://localhost:8080/"
        },
        "id": "_FL5tplb0VNY",
        "outputId": "54388f88-6b01-4794-9365-422e355dd4dc"
      },
      "source": [
        "import pandas as pd\n",
        "import nltk\n",
        "from nltk.tokenize import word_tokenize\n",
        "nltk.download('punkt')\n",
        "nltk.download('stopwords')\n",
        "import utils\n",
        "import pickle"
      ],
      "execution_count": 3,
      "outputs": [
        {
          "output_type": "stream",
          "name": "stdout",
          "text": [
            "[nltk_data] Downloading package punkt to /root/nltk_data...\n",
            "[nltk_data]   Package punkt is already up-to-date!\n",
            "[nltk_data] Downloading package stopwords to /root/nltk_data...\n",
            "[nltk_data]   Package stopwords is already up-to-date!\n"
          ]
        }
      ]
    },
    {
      "cell_type": "markdown",
      "metadata": {
        "id": "VnlVBMlb2MQK"
      },
      "source": [
        "### Representations\n",
        "- Bag of Words\n",
        "- Clustering\n",
        "- Embedded Representations\n",
        "- Methinks some sort of embedding with sentence structure"
      ]
    },
    {
      "cell_type": "code",
      "metadata": {
        "id": "eJ3qT1sP07bQ"
      },
      "source": [
        "# Raw dataframes\n",
        "raw_df = pd.read_csv('train.csv')\n",
        "\n",
        "# test_df = pd.read_csv('test.csv')"
      ],
      "execution_count": 4,
      "outputs": []
    },
    {
      "cell_type": "code",
      "metadata": {
        "id": "j8DMNdTJ51CF"
      },
      "source": [
        "# Run to create processed dataframes\n",
        "# Obtain vocab + UNK\n",
        "partitionlen = int (.1 * len(raw_df))\n",
        "\n",
        "\n",
        "# Process tokens\n",
        "utils.frame_process(raw_df)\n",
        "# Create training set 90%\n",
        "main_df = raw_df[0:(9 * partitionlen)].copy()\n",
        "# Create vocab, translations with training set \n",
        "vocab = utils.create_vocab(main_df)\n",
        "translate, rev_translate = utils.create_translation(vocab)\n",
        "# with open('saved.pkl', 'wb') as f:\n",
        "#     pickle.dump([vocab, translate, rev_translate], f)\n",
        "# Add bag of words, tfidf vectors for training set\n",
        "utils.frame_counts(main_df, vocab)\n",
        "idf = utils.idf_vec(main_df)\n",
        "utils.frame_tfidf(main_df, idf)\n",
        "\n",
        "with open('saved.pkl', 'wb') as f:\n",
        "    pickle.dump([vocab, translate, rev_translate, idf], f)\n",
        "\n",
        "# Pickle dataframe for testset 10%\n",
        "temp = raw_df[(9*partitionlen):].copy()\n",
        "test_df = temp\n",
        "utils.frame_counts(test_df, vocab)\n",
        "utils.frame_tfidf(test_df, idf)\n",
        "temp.to_pickle('test_0.pkl')\n",
        "\n",
        "\n",
        "# Pickle dataframes for 90%\n",
        "train_dfs = []\n",
        "for i in range(9):\n",
        "    start = i * partitionlen\n",
        "    end = min((i + 1) * partitionlen, len(main_df))\n",
        "    temp = main_df.iloc[start:end].copy()\n",
        "    train_dfs.append(temp)\n",
        "    name = 'train_' + str(i) + '.pkl'\n",
        "    temp.to_pickle(name)\n",
        "\n",
        "\n",
        "\n"
      ],
      "execution_count": 5,
      "outputs": []
    },
    {
      "cell_type": "code",
      "metadata": {
        "colab": {
          "base_uri": "https://localhost:8080/",
          "height": 419
        },
        "id": "QO04OqzWkyun",
        "outputId": "40ba76a4-5b00-4303-a6c1-84f36905f9fd"
      },
      "source": [
        "main_df"
      ],
      "execution_count": 6,
      "outputs": [
        {
          "output_type": "execute_result",
          "data": {
            "text/html": [
              "<div>\n",
              "<style scoped>\n",
              "    .dataframe tbody tr th:only-of-type {\n",
              "        vertical-align: middle;\n",
              "    }\n",
              "\n",
              "    .dataframe tbody tr th {\n",
              "        vertical-align: top;\n",
              "    }\n",
              "\n",
              "    .dataframe thead th {\n",
              "        text-align: right;\n",
              "    }\n",
              "</style>\n",
              "<table border=\"1\" class=\"dataframe\">\n",
              "  <thead>\n",
              "    <tr style=\"text-align: right;\">\n",
              "      <th></th>\n",
              "      <th>id</th>\n",
              "      <th>text</th>\n",
              "      <th>author</th>\n",
              "      <th>tokens</th>\n",
              "      <th>bag_vec</th>\n",
              "      <th>tfidf_vec</th>\n",
              "    </tr>\n",
              "  </thead>\n",
              "  <tbody>\n",
              "    <tr>\n",
              "      <th>0</th>\n",
              "      <td>id26305</td>\n",
              "      <td>This process, however, afforded me no means of...</td>\n",
              "      <td>EAP</td>\n",
              "      <td>[this, process, however, afforded, means, asce...</td>\n",
              "      <td>[0, 0, 0, 0, 0, 0, 0, 0, 0, 0, 0, 0, 0, 0, 0, ...</td>\n",
              "      <td>[0.0, 0.0, 0.0, 0.0, 0.0, 0.0, 0.0, 0.0, 0.0, ...</td>\n",
              "    </tr>\n",
              "    <tr>\n",
              "      <th>1</th>\n",
              "      <td>id17569</td>\n",
              "      <td>It never once occurred to me that the fumbling...</td>\n",
              "      <td>HPL</td>\n",
              "      <td>[it, never, occurred, fumbling, might, mere, m...</td>\n",
              "      <td>[0, 0, 0, 0, 0, 0, 0, 0, 0, 0, 0, 0, 0, 0, 0, ...</td>\n",
              "      <td>[0.0, 0.0, 0.0, 0.0, 0.0, 0.0, 0.0, 0.0, 0.0, ...</td>\n",
              "    </tr>\n",
              "    <tr>\n",
              "      <th>2</th>\n",
              "      <td>id11008</td>\n",
              "      <td>In his left hand was a gold snuff box, from wh...</td>\n",
              "      <td>EAP</td>\n",
              "      <td>[in, left, hand, gold, snuff, box, capered, hi...</td>\n",
              "      <td>[0, 0, 0, 0, 0, 0, 0, 0, 0, 0, 0, 0, 0, 0, 0, ...</td>\n",
              "      <td>[0.0, 0.0, 0.0, 0.0, 0.0, 0.0, 0.0, 0.0, 0.0, ...</td>\n",
              "    </tr>\n",
              "    <tr>\n",
              "      <th>3</th>\n",
              "      <td>id27763</td>\n",
              "      <td>How lovely is spring As we looked from Windsor...</td>\n",
              "      <td>MWS</td>\n",
              "      <td>[how, lovely, spring, as, looked, windsor, ter...</td>\n",
              "      <td>[0, 0, 0, 0, 0, 0, 0, 0, 0, 0, 0, 0, 0, 0, 0, ...</td>\n",
              "      <td>[0.0, 0.0, 0.0, 0.0, 0.0, 0.0, 0.0, 0.0, 0.0, ...</td>\n",
              "    </tr>\n",
              "    <tr>\n",
              "      <th>4</th>\n",
              "      <td>id12958</td>\n",
              "      <td>Finding nothing else, not even gold, the Super...</td>\n",
              "      <td>HPL</td>\n",
              "      <td>[finding, nothing, else, even, gold, superinte...</td>\n",
              "      <td>[0, 0, 0, 0, 0, 0, 0, 1, 0, 0, 0, 0, 0, 0, 0, ...</td>\n",
              "      <td>[0.0, 0.0, 0.0, 0.0, 0.0, 0.0, 0.0, 0.40056854...</td>\n",
              "    </tr>\n",
              "    <tr>\n",
              "      <th>...</th>\n",
              "      <td>...</td>\n",
              "      <td>...</td>\n",
              "      <td>...</td>\n",
              "      <td>...</td>\n",
              "      <td>...</td>\n",
              "      <td>...</td>\n",
              "    </tr>\n",
              "    <tr>\n",
              "      <th>17608</th>\n",
              "      <td>id02035</td>\n",
              "      <td>Not but what I think it's the Lord's jedgment ...</td>\n",
              "      <td>HPL</td>\n",
              "      <td>[not, i, think, lords, jedgment, fer, iniquiti...</td>\n",
              "      <td>[0, 0, 0, 0, 0, 0, 0, 0, 0, 0, 0, 0, 0, 0, 0, ...</td>\n",
              "      <td>[0.0, 0.0, 0.0, 0.0, 0.0, 0.0, 0.0, 0.0, 0.0, ...</td>\n",
              "    </tr>\n",
              "    <tr>\n",
              "      <th>17609</th>\n",
              "      <td>id02460</td>\n",
              "      <td>She would never tell what her father and the b...</td>\n",
              "      <td>HPL</td>\n",
              "      <td>[she, would, never, tell, father, boy, though,...</td>\n",
              "      <td>[0, 0, 0, 0, 0, 0, 0, 0, 0, 0, 0, 0, 0, 0, 0, ...</td>\n",
              "      <td>[0.0, 0.0, 0.0, 0.0, 0.0, 0.0, 0.0, 0.0, 0.0, ...</td>\n",
              "    </tr>\n",
              "    <tr>\n",
              "      <th>17610</th>\n",
              "      <td>id02568</td>\n",
              "      <td>Hence that positive appetite for system and re...</td>\n",
              "      <td>EAP</td>\n",
              "      <td>[hence, positive, appetite, system, regularity...</td>\n",
              "      <td>[0, 0, 0, 0, 0, 0, 0, 0, 0, 0, 0, 0, 0, 0, 0, ...</td>\n",
              "      <td>[0.0, 0.0, 0.0, 0.0, 0.0, 0.0, 0.0, 0.0, 0.0, ...</td>\n",
              "    </tr>\n",
              "    <tr>\n",
              "      <th>17611</th>\n",
              "      <td>id19334</td>\n",
              "      <td>Manton seemed unimpressed by my arguments, and...</td>\n",
              "      <td>HPL</td>\n",
              "      <td>[manton, seemed, unimpressed, arguments, eager...</td>\n",
              "      <td>[0, 0, 0, 0, 0, 0, 0, 0, 0, 0, 0, 0, 0, 0, 0, ...</td>\n",
              "      <td>[0.0, 0.0, 0.0, 0.0, 0.0, 0.0, 0.0, 0.0, 0.0, ...</td>\n",
              "    </tr>\n",
              "    <tr>\n",
              "      <th>17612</th>\n",
              "      <td>id22754</td>\n",
              "      <td>While they were talking Desrochers dropped in ...</td>\n",
              "      <td>HPL</td>\n",
              "      <td>[while, talking, desrochers, dropped, say, hea...</td>\n",
              "      <td>[0, 0, 0, 0, 0, 0, 0, 0, 0, 0, 0, 0, 0, 0, 0, ...</td>\n",
              "      <td>[0.0, 0.0, 0.0, 0.0, 0.0, 0.0, 0.0, 0.0, 0.0, ...</td>\n",
              "    </tr>\n",
              "  </tbody>\n",
              "</table>\n",
              "<p>17613 rows × 6 columns</p>\n",
              "</div>"
            ],
            "text/plain": [
              "            id  ...                                          tfidf_vec\n",
              "0      id26305  ...  [0.0, 0.0, 0.0, 0.0, 0.0, 0.0, 0.0, 0.0, 0.0, ...\n",
              "1      id17569  ...  [0.0, 0.0, 0.0, 0.0, 0.0, 0.0, 0.0, 0.0, 0.0, ...\n",
              "2      id11008  ...  [0.0, 0.0, 0.0, 0.0, 0.0, 0.0, 0.0, 0.0, 0.0, ...\n",
              "3      id27763  ...  [0.0, 0.0, 0.0, 0.0, 0.0, 0.0, 0.0, 0.0, 0.0, ...\n",
              "4      id12958  ...  [0.0, 0.0, 0.0, 0.0, 0.0, 0.0, 0.0, 0.40056854...\n",
              "...        ...  ...                                                ...\n",
              "17608  id02035  ...  [0.0, 0.0, 0.0, 0.0, 0.0, 0.0, 0.0, 0.0, 0.0, ...\n",
              "17609  id02460  ...  [0.0, 0.0, 0.0, 0.0, 0.0, 0.0, 0.0, 0.0, 0.0, ...\n",
              "17610  id02568  ...  [0.0, 0.0, 0.0, 0.0, 0.0, 0.0, 0.0, 0.0, 0.0, ...\n",
              "17611  id19334  ...  [0.0, 0.0, 0.0, 0.0, 0.0, 0.0, 0.0, 0.0, 0.0, ...\n",
              "17612  id22754  ...  [0.0, 0.0, 0.0, 0.0, 0.0, 0.0, 0.0, 0.0, 0.0, ...\n",
              "\n",
              "[17613 rows x 6 columns]"
            ]
          },
          "metadata": {},
          "execution_count": 6
        }
      ]
    },
    {
      "cell_type": "code",
      "metadata": {
        "colab": {
          "base_uri": "https://localhost:8080/",
          "height": 419
        },
        "id": "8lrGlxaojBH5",
        "outputId": "643fb612-662b-4419-f71f-c924a7c21e83"
      },
      "source": [
        "train_dfs[8]"
      ],
      "execution_count": 7,
      "outputs": [
        {
          "output_type": "execute_result",
          "data": {
            "text/html": [
              "<div>\n",
              "<style scoped>\n",
              "    .dataframe tbody tr th:only-of-type {\n",
              "        vertical-align: middle;\n",
              "    }\n",
              "\n",
              "    .dataframe tbody tr th {\n",
              "        vertical-align: top;\n",
              "    }\n",
              "\n",
              "    .dataframe thead th {\n",
              "        text-align: right;\n",
              "    }\n",
              "</style>\n",
              "<table border=\"1\" class=\"dataframe\">\n",
              "  <thead>\n",
              "    <tr style=\"text-align: right;\">\n",
              "      <th></th>\n",
              "      <th>id</th>\n",
              "      <th>text</th>\n",
              "      <th>author</th>\n",
              "      <th>tokens</th>\n",
              "      <th>bag_vec</th>\n",
              "      <th>tfidf_vec</th>\n",
              "    </tr>\n",
              "  </thead>\n",
              "  <tbody>\n",
              "    <tr>\n",
              "      <th>15656</th>\n",
              "      <td>id20732</td>\n",
              "      <td>A sensation of stupor oppressed me, as my eyes...</td>\n",
              "      <td>EAP</td>\n",
              "      <td>[a, sensation, stupor, oppressed, eyes, follow...</td>\n",
              "      <td>[0, 1, 0, 0, 0, 0, 0, 0, 0, 0, 0, 0, 0, 0, 0, ...</td>\n",
              "      <td>[0.0, 0.502581291393173, 0.0, 0.0, 0.0, 0.0, 0...</td>\n",
              "    </tr>\n",
              "    <tr>\n",
              "      <th>15657</th>\n",
              "      <td>id11722</td>\n",
              "      <td>Mr. Garrick obtain'd Admittance only with Diff...</td>\n",
              "      <td>HPL</td>\n",
              "      <td>[mr, garrick, obtaind, admittance, difficulty,...</td>\n",
              "      <td>[0, 0, 0, 0, 0, 0, 0, 0, 0, 0, 0, 0, 0, 0, 0, ...</td>\n",
              "      <td>[0.0, 0.0, 0.0, 0.0, 0.0, 0.0, 0.0, 0.0, 0.0, ...</td>\n",
              "    </tr>\n",
              "    <tr>\n",
              "      <th>15658</th>\n",
              "      <td>id26365</td>\n",
              "      <td>In those days how often did I hear of his attr...</td>\n",
              "      <td>MWS</td>\n",
              "      <td>[in, days, often, i, hear, attractions, wide, ...</td>\n",
              "      <td>[0, 0, 0, 0, 0, 0, 0, 0, 0, 0, 0, 0, 0, 0, 0, ...</td>\n",
              "      <td>[0.0, 0.0, 0.0, 0.0, 0.0, 0.0, 0.0, 0.0, 0.0, ...</td>\n",
              "    </tr>\n",
              "    <tr>\n",
              "      <th>15659</th>\n",
              "      <td>id26565</td>\n",
              "      <td>Upon passing the hand over them they seemed to...</td>\n",
              "      <td>EAP</td>\n",
              "      <td>[upon, passing, hand, seemed, protruded, socke...</td>\n",
              "      <td>[0, 0, 0, 0, 0, 0, 0, 0, 0, 0, 0, 0, 0, 0, 0, ...</td>\n",
              "      <td>[0.0, 0.0, 0.0, 0.0, 0.0, 0.0, 0.0, 0.0, 0.0, ...</td>\n",
              "    </tr>\n",
              "    <tr>\n",
              "      <th>15660</th>\n",
              "      <td>id20442</td>\n",
              "      <td>The duties, here, are simple, and not altogeth...</td>\n",
              "      <td>EAP</td>\n",
              "      <td>[the, duties, simple, altogether, unprofitable]</td>\n",
              "      <td>[0, 0, 0, 0, 0, 0, 0, 0, 0, 0, 0, 0, 0, 0, 0, ...</td>\n",
              "      <td>[0.0, 0.0, 0.0, 0.0, 0.0, 0.0, 0.0, 0.0, 0.0, ...</td>\n",
              "    </tr>\n",
              "    <tr>\n",
              "      <th>...</th>\n",
              "      <td>...</td>\n",
              "      <td>...</td>\n",
              "      <td>...</td>\n",
              "      <td>...</td>\n",
              "      <td>...</td>\n",
              "      <td>...</td>\n",
              "    </tr>\n",
              "    <tr>\n",
              "      <th>17608</th>\n",
              "      <td>id02035</td>\n",
              "      <td>Not but what I think it's the Lord's jedgment ...</td>\n",
              "      <td>HPL</td>\n",
              "      <td>[not, i, think, lords, jedgment, fer, iniquiti...</td>\n",
              "      <td>[0, 0, 0, 0, 0, 0, 0, 0, 0, 0, 0, 0, 0, 0, 0, ...</td>\n",
              "      <td>[0.0, 0.0, 0.0, 0.0, 0.0, 0.0, 0.0, 0.0, 0.0, ...</td>\n",
              "    </tr>\n",
              "    <tr>\n",
              "      <th>17609</th>\n",
              "      <td>id02460</td>\n",
              "      <td>She would never tell what her father and the b...</td>\n",
              "      <td>HPL</td>\n",
              "      <td>[she, would, never, tell, father, boy, though,...</td>\n",
              "      <td>[0, 0, 0, 0, 0, 0, 0, 0, 0, 0, 0, 0, 0, 0, 0, ...</td>\n",
              "      <td>[0.0, 0.0, 0.0, 0.0, 0.0, 0.0, 0.0, 0.0, 0.0, ...</td>\n",
              "    </tr>\n",
              "    <tr>\n",
              "      <th>17610</th>\n",
              "      <td>id02568</td>\n",
              "      <td>Hence that positive appetite for system and re...</td>\n",
              "      <td>EAP</td>\n",
              "      <td>[hence, positive, appetite, system, regularity...</td>\n",
              "      <td>[0, 0, 0, 0, 0, 0, 0, 0, 0, 0, 0, 0, 0, 0, 0, ...</td>\n",
              "      <td>[0.0, 0.0, 0.0, 0.0, 0.0, 0.0, 0.0, 0.0, 0.0, ...</td>\n",
              "    </tr>\n",
              "    <tr>\n",
              "      <th>17611</th>\n",
              "      <td>id19334</td>\n",
              "      <td>Manton seemed unimpressed by my arguments, and...</td>\n",
              "      <td>HPL</td>\n",
              "      <td>[manton, seemed, unimpressed, arguments, eager...</td>\n",
              "      <td>[0, 0, 0, 0, 0, 0, 0, 0, 0, 0, 0, 0, 0, 0, 0, ...</td>\n",
              "      <td>[0.0, 0.0, 0.0, 0.0, 0.0, 0.0, 0.0, 0.0, 0.0, ...</td>\n",
              "    </tr>\n",
              "    <tr>\n",
              "      <th>17612</th>\n",
              "      <td>id22754</td>\n",
              "      <td>While they were talking Desrochers dropped in ...</td>\n",
              "      <td>HPL</td>\n",
              "      <td>[while, talking, desrochers, dropped, say, hea...</td>\n",
              "      <td>[0, 0, 0, 0, 0, 0, 0, 0, 0, 0, 0, 0, 0, 0, 0, ...</td>\n",
              "      <td>[0.0, 0.0, 0.0, 0.0, 0.0, 0.0, 0.0, 0.0, 0.0, ...</td>\n",
              "    </tr>\n",
              "  </tbody>\n",
              "</table>\n",
              "<p>1957 rows × 6 columns</p>\n",
              "</div>"
            ],
            "text/plain": [
              "            id  ...                                          tfidf_vec\n",
              "15656  id20732  ...  [0.0, 0.502581291393173, 0.0, 0.0, 0.0, 0.0, 0...\n",
              "15657  id11722  ...  [0.0, 0.0, 0.0, 0.0, 0.0, 0.0, 0.0, 0.0, 0.0, ...\n",
              "15658  id26365  ...  [0.0, 0.0, 0.0, 0.0, 0.0, 0.0, 0.0, 0.0, 0.0, ...\n",
              "15659  id26565  ...  [0.0, 0.0, 0.0, 0.0, 0.0, 0.0, 0.0, 0.0, 0.0, ...\n",
              "15660  id20442  ...  [0.0, 0.0, 0.0, 0.0, 0.0, 0.0, 0.0, 0.0, 0.0, ...\n",
              "...        ...  ...                                                ...\n",
              "17608  id02035  ...  [0.0, 0.0, 0.0, 0.0, 0.0, 0.0, 0.0, 0.0, 0.0, ...\n",
              "17609  id02460  ...  [0.0, 0.0, 0.0, 0.0, 0.0, 0.0, 0.0, 0.0, 0.0, ...\n",
              "17610  id02568  ...  [0.0, 0.0, 0.0, 0.0, 0.0, 0.0, 0.0, 0.0, 0.0, ...\n",
              "17611  id19334  ...  [0.0, 0.0, 0.0, 0.0, 0.0, 0.0, 0.0, 0.0, 0.0, ...\n",
              "17612  id22754  ...  [0.0, 0.0, 0.0, 0.0, 0.0, 0.0, 0.0, 0.0, 0.0, ...\n",
              "\n",
              "[1957 rows x 6 columns]"
            ]
          },
          "metadata": {},
          "execution_count": 7
        }
      ]
    },
    {
      "cell_type": "code",
      "metadata": {
        "colab": {
          "base_uri": "https://localhost:8080/",
          "height": 419
        },
        "id": "8RS0mN6ejDEy",
        "outputId": "84e10bf4-119d-48bc-85f8-c3517b5d013d"
      },
      "source": [
        "test_df"
      ],
      "execution_count": 8,
      "outputs": [
        {
          "output_type": "execute_result",
          "data": {
            "text/html": [
              "<div>\n",
              "<style scoped>\n",
              "    .dataframe tbody tr th:only-of-type {\n",
              "        vertical-align: middle;\n",
              "    }\n",
              "\n",
              "    .dataframe tbody tr th {\n",
              "        vertical-align: top;\n",
              "    }\n",
              "\n",
              "    .dataframe thead th {\n",
              "        text-align: right;\n",
              "    }\n",
              "</style>\n",
              "<table border=\"1\" class=\"dataframe\">\n",
              "  <thead>\n",
              "    <tr style=\"text-align: right;\">\n",
              "      <th></th>\n",
              "      <th>id</th>\n",
              "      <th>text</th>\n",
              "      <th>author</th>\n",
              "      <th>tokens</th>\n",
              "      <th>bag_vec</th>\n",
              "      <th>tfidf_vec</th>\n",
              "    </tr>\n",
              "  </thead>\n",
              "  <tbody>\n",
              "    <tr>\n",
              "      <th>17613</th>\n",
              "      <td>id08561</td>\n",
              "      <td>A lamp which had been accidentally left, full ...</td>\n",
              "      <td>EAP</td>\n",
              "      <td>[a, lamp, accidentally, left, full, oil, withi...</td>\n",
              "      <td>[1, 1, 0, 0, 0, 0, 0, 0, 0, 0, 0, 0, 0, 0, 0, ...</td>\n",
              "      <td>[0.698313753195164, 0.2871893093675274, 0.0, 0...</td>\n",
              "    </tr>\n",
              "    <tr>\n",
              "      <th>17614</th>\n",
              "      <td>id01432</td>\n",
              "      <td>I gave to each heroine of whom I read, her bea...</td>\n",
              "      <td>MWS</td>\n",
              "      <td>[i, gave, heroine, i, read, beauty, matchless,...</td>\n",
              "      <td>[4, 0, 0, 0, 0, 0, 0, 0, 0, 0, 0, 0, 0, 0, 0, ...</td>\n",
              "      <td>[1.5040603914972763, 0.0, 0.0, 0.0, 0.0, 0.0, ...</td>\n",
              "    </tr>\n",
              "    <tr>\n",
              "      <th>17615</th>\n",
              "      <td>id22037</td>\n",
              "      <td>He got in communication with Dr. Houghton of A...</td>\n",
              "      <td>HPL</td>\n",
              "      <td>[he, got, communication, dr, houghton, aylesbu...</td>\n",
              "      <td>[0, 0, 0, 0, 0, 0, 0, 0, 0, 0, 0, 0, 0, 0, 0, ...</td>\n",
              "      <td>[0.0, 0.0, 0.0, 0.0, 0.0, 0.0, 0.0, 0.0, 0.0, ...</td>\n",
              "    </tr>\n",
              "    <tr>\n",
              "      <th>17616</th>\n",
              "      <td>id22330</td>\n",
              "      <td>The trees of the frequent forest belts seem to...</td>\n",
              "      <td>HPL</td>\n",
              "      <td>[the, trees, frequent, forest, belts, seem, la...</td>\n",
              "      <td>[0, 0, 0, 0, 0, 0, 0, 0, 0, 0, 0, 0, 0, 0, 0, ...</td>\n",
              "      <td>[0.0, 0.0, 0.0, 0.0, 0.0, 0.0, 0.0, 0.0, 0.0, ...</td>\n",
              "    </tr>\n",
              "    <tr>\n",
              "      <th>17617</th>\n",
              "      <td>id26151</td>\n",
              "      <td>I then moved forward, and a murmuring sound ar...</td>\n",
              "      <td>MWS</td>\n",
              "      <td>[i, moved, forward, murmuring, sound, arose, c...</td>\n",
              "      <td>[1, 0, 0, 0, 0, 0, 0, 0, 0, 0, 0, 0, 0, 0, 0, ...</td>\n",
              "      <td>[0.44438147930601346, 0.0, 0.0, 0.0, 0.0, 0.0,...</td>\n",
              "    </tr>\n",
              "    <tr>\n",
              "      <th>...</th>\n",
              "      <td>...</td>\n",
              "      <td>...</td>\n",
              "      <td>...</td>\n",
              "      <td>...</td>\n",
              "      <td>...</td>\n",
              "      <td>...</td>\n",
              "    </tr>\n",
              "    <tr>\n",
              "      <th>19574</th>\n",
              "      <td>id17718</td>\n",
              "      <td>I could have fancied, while I looked at it, th...</td>\n",
              "      <td>EAP</td>\n",
              "      <td>[i, could, fancied, i, looked, eminent, landsc...</td>\n",
              "      <td>[0, 0, 0, 0, 0, 0, 0, 0, 0, 0, 0, 0, 0, 0, 0, ...</td>\n",
              "      <td>[0.0, 0.0, 0.0, 0.0, 0.0, 0.0, 0.0, 0.0, 0.0, ...</td>\n",
              "    </tr>\n",
              "    <tr>\n",
              "      <th>19575</th>\n",
              "      <td>id08973</td>\n",
              "      <td>The lids clenched themselves together as if in...</td>\n",
              "      <td>EAP</td>\n",
              "      <td>[the, lids, clenched, together, spasm]</td>\n",
              "      <td>[0, 0, 0, 0, 0, 0, 0, 0, 0, 0, 0, 0, 0, 0, 0, ...</td>\n",
              "      <td>[0.0, 0.0, 0.0, 0.0, 0.0, 0.0, 0.0, 0.0, 0.0, ...</td>\n",
              "    </tr>\n",
              "    <tr>\n",
              "      <th>19576</th>\n",
              "      <td>id05267</td>\n",
              "      <td>Mais il faut agir that is to say, a Frenchman ...</td>\n",
              "      <td>EAP</td>\n",
              "      <td>[mais, faut, agir, say, frenchman, never, fain...</td>\n",
              "      <td>[2, 0, 0, 0, 0, 0, 0, 0, 0, 0, 0, 0, 0, 0, 0, ...</td>\n",
              "      <td>[2.444098136183074, 0.0, 0.0, 0.0, 0.0, 0.0, 0...</td>\n",
              "    </tr>\n",
              "    <tr>\n",
              "      <th>19577</th>\n",
              "      <td>id17513</td>\n",
              "      <td>For an item of news like this, it strikes us i...</td>\n",
              "      <td>EAP</td>\n",
              "      <td>[for, item, news, like, strikes, us, coolly, r...</td>\n",
              "      <td>[0, 0, 0, 0, 0, 0, 0, 0, 0, 0, 0, 0, 0, 0, 0, ...</td>\n",
              "      <td>[0.0, 0.0, 0.0, 0.0, 0.0, 0.0, 0.0, 0.0, 0.0, ...</td>\n",
              "    </tr>\n",
              "    <tr>\n",
              "      <th>19578</th>\n",
              "      <td>id00393</td>\n",
              "      <td>He laid a gnarled claw on my shoulder, and it ...</td>\n",
              "      <td>HPL</td>\n",
              "      <td>[he, laid, gnarled, claw, shoulder, seemed, sh...</td>\n",
              "      <td>[0, 0, 0, 0, 0, 0, 0, 0, 0, 0, 0, 0, 0, 0, 0, ...</td>\n",
              "      <td>[0.0, 0.0, 0.0, 0.0, 0.0, 0.0, 0.0, 0.0, 0.0, ...</td>\n",
              "    </tr>\n",
              "  </tbody>\n",
              "</table>\n",
              "<p>1966 rows × 6 columns</p>\n",
              "</div>"
            ],
            "text/plain": [
              "            id  ...                                          tfidf_vec\n",
              "17613  id08561  ...  [0.698313753195164, 0.2871893093675274, 0.0, 0...\n",
              "17614  id01432  ...  [1.5040603914972763, 0.0, 0.0, 0.0, 0.0, 0.0, ...\n",
              "17615  id22037  ...  [0.0, 0.0, 0.0, 0.0, 0.0, 0.0, 0.0, 0.0, 0.0, ...\n",
              "17616  id22330  ...  [0.0, 0.0, 0.0, 0.0, 0.0, 0.0, 0.0, 0.0, 0.0, ...\n",
              "17617  id26151  ...  [0.44438147930601346, 0.0, 0.0, 0.0, 0.0, 0.0,...\n",
              "...        ...  ...                                                ...\n",
              "19574  id17718  ...  [0.0, 0.0, 0.0, 0.0, 0.0, 0.0, 0.0, 0.0, 0.0, ...\n",
              "19575  id08973  ...  [0.0, 0.0, 0.0, 0.0, 0.0, 0.0, 0.0, 0.0, 0.0, ...\n",
              "19576  id05267  ...  [2.444098136183074, 0.0, 0.0, 0.0, 0.0, 0.0, 0...\n",
              "19577  id17513  ...  [0.0, 0.0, 0.0, 0.0, 0.0, 0.0, 0.0, 0.0, 0.0, ...\n",
              "19578  id00393  ...  [0.0, 0.0, 0.0, 0.0, 0.0, 0.0, 0.0, 0.0, 0.0, ...\n",
              "\n",
              "[1966 rows x 6 columns]"
            ]
          },
          "metadata": {},
          "execution_count": 8
        }
      ]
    },
    {
      "cell_type": "code",
      "metadata": {
        "id": "lzKVR_O4I1hc"
      },
      "source": [
        "# Save pickles to drive\n",
        "!cp train_0.pkl ./drive/MyDrive/Academics/CS4650/Project/train_0.pkl\n",
        "!cp train_1.pkl ./drive/MyDrive/Academics/CS4650/Project/train_1.pkl\n",
        "!cp train_2.pkl ./drive/MyDrive/Academics/CS4650/Project/train_2.pkl\n",
        "!cp train_3.pkl ./drive/MyDrive/Academics/CS4650/Project/train_3.pkl\n",
        "!cp train_4.pkl ./drive/MyDrive/Academics/CS4650/Project/train_4.pkl\n",
        "!cp train_5.pkl ./drive/MyDrive/Academics/CS4650/Project/train_5.pkl\n",
        "!cp train_6.pkl ./drive/MyDrive/Academics/CS4650/Project/train_6.pkl\n",
        "!cp train_7.pkl ./drive/MyDrive/Academics/CS4650/Project/train_7.pkl\n",
        "!cp train_8.pkl ./drive/MyDrive/Academics/CS4650/Project/train_8.pkl\n",
        "!cp test_0.pkl ./drive/MyDrive/Academics/CS4650/Project/test_0.pkl\n",
        "!cp saved.pkl ./drive/MyDrive/Academics/CS4650/Project/saved.pkl"
      ],
      "execution_count": 10,
      "outputs": []
    },
    {
      "cell_type": "code",
      "metadata": {
        "colab": {
          "base_uri": "https://localhost:8080/",
          "height": 419
        },
        "id": "fXQF7HWJdjxA",
        "outputId": "188d3849-b357-47e7-e6c1-8ce2180f7df7"
      },
      "source": [
        "# # Bag of Words and TFIDF for test\n",
        "# # Obtain vocab + UNK\n",
        "# # temp = train_df.head().copy()\n",
        "# temp = test_df\n",
        "# utils.frame_process(temp)\n",
        "# vocab = utils.create_vocab(temp)\n",
        "# translate, rev_translate = utils.create_translation(vocab)\n",
        "# # Get counts of words\n",
        "# utils.frame_counts(temp, vocab)\n",
        "# # print(temp['bag_vec'])\n",
        "# # print(len(vocab))\n",
        "# # len(utils.total_bag_vec(temp))\n",
        "# # \n",
        "# # print(temp['tokens'][0])\n",
        "# # print(temp['bag_vec'][0])\n",
        "# # print(vocab)\n",
        "# idf = utils.idf_vec(temp)\n",
        "# # print(idf)\n",
        "# utils.frame_tfidf(temp, idf)\n",
        "# # print(len(temp['tokens'][0]))\n",
        "# temp.to_csv('test_proc.csv')\n",
        "# temp"
      ],
      "execution_count": null,
      "outputs": [
        {
          "output_type": "execute_result",
          "data": {
            "text/html": [
              "<div>\n",
              "<style scoped>\n",
              "    .dataframe tbody tr th:only-of-type {\n",
              "        vertical-align: middle;\n",
              "    }\n",
              "\n",
              "    .dataframe tbody tr th {\n",
              "        vertical-align: top;\n",
              "    }\n",
              "\n",
              "    .dataframe thead th {\n",
              "        text-align: right;\n",
              "    }\n",
              "</style>\n",
              "<table border=\"1\" class=\"dataframe\">\n",
              "  <thead>\n",
              "    <tr style=\"text-align: right;\">\n",
              "      <th></th>\n",
              "      <th>id</th>\n",
              "      <th>text</th>\n",
              "      <th>tokens</th>\n",
              "      <th>bag_vec</th>\n",
              "      <th>tfidf_vec</th>\n",
              "    </tr>\n",
              "  </thead>\n",
              "  <tbody>\n",
              "    <tr>\n",
              "      <th>0</th>\n",
              "      <td>id02310</td>\n",
              "      <td>Still, as I urged our leaving Ireland with suc...</td>\n",
              "      <td>[still, i, urged, leaving, ireland, inquietude...</td>\n",
              "      <td>[0, 0, 0, 0, 0, 0, 0, 0, 0, 0, 0, 0, 0, 0, 0, ...</td>\n",
              "      <td>[0.0, 0.0, 0.0, 0.0, 0.0, 0.0, 0.0, 0.0, 0.0, ...</td>\n",
              "    </tr>\n",
              "    <tr>\n",
              "      <th>1</th>\n",
              "      <td>id24541</td>\n",
              "      <td>If a fire wanted fanning, it could readily be ...</td>\n",
              "      <td>[if, fire, wanted, fanning, could, readily, fa...</td>\n",
              "      <td>[0, 0, 0, 0, 0, 0, 0, 0, 0, 0, 0, 0, 0, 0, 0, ...</td>\n",
              "      <td>[0.0, 0.0, 0.0, 0.0, 0.0, 0.0, 0.0, 0.0, 0.0, ...</td>\n",
              "    </tr>\n",
              "    <tr>\n",
              "      <th>2</th>\n",
              "      <td>id00134</td>\n",
              "      <td>And when they had broken down the frail door t...</td>\n",
              "      <td>[and, broken, frail, found, two, cleanly, pick...</td>\n",
              "      <td>[0, 0, 0, 0, 0, 0, 0, 0, 0, 0, 0, 0, 0, 0, 0, ...</td>\n",
              "      <td>[0.0, 0.0, 0.0, 0.0, 0.0, 0.0, 0.0, 0.0, 0.0, ...</td>\n",
              "    </tr>\n",
              "    <tr>\n",
              "      <th>3</th>\n",
              "      <td>id27757</td>\n",
              "      <td>While I was thinking how I should possibly man...</td>\n",
              "      <td>[while, i, thinking, i, possibly, manage, with...</td>\n",
              "      <td>[0, 0, 0, 0, 0, 0, 0, 0, 0, 0, 0, 0, 0, 0, 0, ...</td>\n",
              "      <td>[0.0, 0.0, 0.0, 0.0, 0.0, 0.0, 0.0, 0.0, 0.0, ...</td>\n",
              "    </tr>\n",
              "    <tr>\n",
              "      <th>4</th>\n",
              "      <td>id04081</td>\n",
              "      <td>I am not sure to what limit his knowledge may ...</td>\n",
              "      <td>[i, sure, limit, knowledge, may, extend]</td>\n",
              "      <td>[0, 0, 0, 0, 0, 0, 0, 0, 0, 0, 0, 0, 0, 0, 0, ...</td>\n",
              "      <td>[0.0, 0.0, 0.0, 0.0, 0.0, 0.0, 0.0, 0.0, 0.0, ...</td>\n",
              "    </tr>\n",
              "    <tr>\n",
              "      <th>...</th>\n",
              "      <td>...</td>\n",
              "      <td>...</td>\n",
              "      <td>...</td>\n",
              "      <td>...</td>\n",
              "      <td>...</td>\n",
              "    </tr>\n",
              "    <tr>\n",
              "      <th>8387</th>\n",
              "      <td>id11749</td>\n",
              "      <td>All this is now the fitter for my purpose.</td>\n",
              "      <td>[all, fitter, purpose]</td>\n",
              "      <td>[0, 0, 0, 0, 0, 0, 0, 0, 0, 0, 0, 0, 0, 0, 0, ...</td>\n",
              "      <td>[0.0, 0.0, 0.0, 0.0, 0.0, 0.0, 0.0, 0.0, 0.0, ...</td>\n",
              "    </tr>\n",
              "    <tr>\n",
              "      <th>8388</th>\n",
              "      <td>id10526</td>\n",
              "      <td>I fixed myself on a wide solitude.</td>\n",
              "      <td>[i, fixed, wide, solitude]</td>\n",
              "      <td>[0, 0, 0, 0, 0, 0, 0, 0, 0, 0, 0, 0, 0, 0, 0, ...</td>\n",
              "      <td>[0.0, 0.0, 0.0, 0.0, 0.0, 0.0, 0.0, 0.0, 0.0, ...</td>\n",
              "    </tr>\n",
              "    <tr>\n",
              "      <th>8389</th>\n",
              "      <td>id13477</td>\n",
              "      <td>It is easily understood that what might improv...</td>\n",
              "      <td>[it, easily, understood, might, improve, close...</td>\n",
              "      <td>[0, 0, 0, 0, 0, 0, 0, 0, 0, 0, 0, 0, 0, 0, 0, ...</td>\n",
              "      <td>[0.0, 0.0, 0.0, 0.0, 0.0, 0.0, 0.0, 0.0, 0.0, ...</td>\n",
              "    </tr>\n",
              "    <tr>\n",
              "      <th>8390</th>\n",
              "      <td>id13761</td>\n",
              "      <td>Be this as it may, I now began to feel the ins...</td>\n",
              "      <td>[be, may, i, began, feel, inspiration, burning...</td>\n",
              "      <td>[0, 0, 0, 0, 0, 0, 0, 0, 0, 0, 0, 0, 0, 0, 0, ...</td>\n",
              "      <td>[0.0, 0.0, 0.0, 0.0, 0.0, 0.0, 0.0, 0.0, 0.0, ...</td>\n",
              "    </tr>\n",
              "    <tr>\n",
              "      <th>8391</th>\n",
              "      <td>id04282</td>\n",
              "      <td>Long winded, statistical, and drearily genealo...</td>\n",
              "      <td>[long, winded, statistical, drearily, genealog...</td>\n",
              "      <td>[0, 0, 0, 0, 0, 0, 0, 0, 0, 0, 0, 0, 0, 0, 0, ...</td>\n",
              "      <td>[0.0, 0.0, 0.0, 0.0, 0.0, 0.0, 0.0, 0.0, 0.0, ...</td>\n",
              "    </tr>\n",
              "  </tbody>\n",
              "</table>\n",
              "<p>8392 rows × 5 columns</p>\n",
              "</div>"
            ],
            "text/plain": [
              "           id  ...                                          tfidf_vec\n",
              "0     id02310  ...  [0.0, 0.0, 0.0, 0.0, 0.0, 0.0, 0.0, 0.0, 0.0, ...\n",
              "1     id24541  ...  [0.0, 0.0, 0.0, 0.0, 0.0, 0.0, 0.0, 0.0, 0.0, ...\n",
              "2     id00134  ...  [0.0, 0.0, 0.0, 0.0, 0.0, 0.0, 0.0, 0.0, 0.0, ...\n",
              "3     id27757  ...  [0.0, 0.0, 0.0, 0.0, 0.0, 0.0, 0.0, 0.0, 0.0, ...\n",
              "4     id04081  ...  [0.0, 0.0, 0.0, 0.0, 0.0, 0.0, 0.0, 0.0, 0.0, ...\n",
              "...       ...  ...                                                ...\n",
              "8387  id11749  ...  [0.0, 0.0, 0.0, 0.0, 0.0, 0.0, 0.0, 0.0, 0.0, ...\n",
              "8388  id10526  ...  [0.0, 0.0, 0.0, 0.0, 0.0, 0.0, 0.0, 0.0, 0.0, ...\n",
              "8389  id13477  ...  [0.0, 0.0, 0.0, 0.0, 0.0, 0.0, 0.0, 0.0, 0.0, ...\n",
              "8390  id13761  ...  [0.0, 0.0, 0.0, 0.0, 0.0, 0.0, 0.0, 0.0, 0.0, ...\n",
              "8391  id04282  ...  [0.0, 0.0, 0.0, 0.0, 0.0, 0.0, 0.0, 0.0, 0.0, ...\n",
              "\n",
              "[8392 rows x 5 columns]"
            ]
          },
          "metadata": {},
          "execution_count": 11
        }
      ]
    },
    {
      "cell_type": "markdown",
      "metadata": {
        "id": "l7FQsViO6V8-"
      },
      "source": [
        "### Models\n",
        "- Multinomial Naive Bayes"
      ]
    },
    {
      "cell_type": "code",
      "metadata": {
        "id": "jqfk_uog6ZCj"
      },
      "source": [
        "from sklearn.naive_bayes import MultinomialNB\n",
        "import numpy as np"
      ],
      "execution_count": 11,
      "outputs": []
    },
    {
      "cell_type": "code",
      "metadata": {
        "id": "ukxI8G9Z4bOz"
      },
      "source": [
        "# import pickles from drive\n",
        "!cp ./drive/MyDrive/Academics/CS4650/Project/train_0.pkl train_0.pkl \n",
        "!cp ./drive/MyDrive/Academics/CS4650/Project/train_1.pkl train_1.pkl\n",
        "!cp ./drive/MyDrive/Academics/CS4650/Project/train_2.pkl train_2.pkl\n",
        "!cp ./drive/MyDrive/Academics/CS4650/Project/train_3.pkl train_3.pkl\n",
        "!cp ./drive/MyDrive/Academics/CS4650/Project/train_4.pkl train_4.pkl\n",
        "!cp ./drive/MyDrive/Academics/CS4650/Project/train_5.pkl train_5.pkl\n",
        "!cp ./drive/MyDrive/Academics/CS4650/Project/train_6.pkl train_6.pkl\n",
        "!cp ./drive/MyDrive/Academics/CS4650/Project/train_7.pkl train_7.pkl\n",
        "!cp ./drive/MyDrive/Academics/CS4650/Project/train_8.pkl train_8.pkl\n",
        "!cp ./drive/MyDrive/Academics/CS4650/Project/test_0.pkl test_0.pkl\n",
        "!cp ./drive/MyDrive/Academics/CS4650/Project/saved.pkl saved.pkl\n",
        "\n",
        "train_dfs = []\n",
        "for i in range(9):\n",
        "    name = 'train_' + str(i) + '.pkl'\n",
        "    train_dfs.append(pd.read_pickle(name))\n",
        "\n",
        "test_df = pd.read_pickle('test_0.pkl')"
      ],
      "execution_count": null,
      "outputs": []
    },
    {
      "cell_type": "code",
      "metadata": {
        "id": "bNTBicatkfkb",
        "colab": {
          "base_uri": "https://localhost:8080/",
          "height": 419
        },
        "outputId": "5275c8e3-7c11-44b6-8c7a-885e6035316d"
      },
      "source": [
        "train_dfs[0]"
      ],
      "execution_count": 14,
      "outputs": [
        {
          "output_type": "execute_result",
          "data": {
            "text/html": [
              "<div>\n",
              "<style scoped>\n",
              "    .dataframe tbody tr th:only-of-type {\n",
              "        vertical-align: middle;\n",
              "    }\n",
              "\n",
              "    .dataframe tbody tr th {\n",
              "        vertical-align: top;\n",
              "    }\n",
              "\n",
              "    .dataframe thead th {\n",
              "        text-align: right;\n",
              "    }\n",
              "</style>\n",
              "<table border=\"1\" class=\"dataframe\">\n",
              "  <thead>\n",
              "    <tr style=\"text-align: right;\">\n",
              "      <th></th>\n",
              "      <th>id</th>\n",
              "      <th>text</th>\n",
              "      <th>author</th>\n",
              "      <th>tokens</th>\n",
              "      <th>bag_vec</th>\n",
              "      <th>tfidf_vec</th>\n",
              "    </tr>\n",
              "  </thead>\n",
              "  <tbody>\n",
              "    <tr>\n",
              "      <th>0</th>\n",
              "      <td>id26305</td>\n",
              "      <td>This process, however, afforded me no means of...</td>\n",
              "      <td>EAP</td>\n",
              "      <td>[this, process, however, afforded, means, asce...</td>\n",
              "      <td>[0, 0, 0, 0, 0, 0, 0, 0, 0, 0, 0, 0, 0, 0, 0, ...</td>\n",
              "      <td>[0.0, 0.0, 0.0, 0.0, 0.0, 0.0, 0.0, 0.0, 0.0, ...</td>\n",
              "    </tr>\n",
              "    <tr>\n",
              "      <th>1</th>\n",
              "      <td>id17569</td>\n",
              "      <td>It never once occurred to me that the fumbling...</td>\n",
              "      <td>HPL</td>\n",
              "      <td>[it, never, occurred, fumbling, might, mere, m...</td>\n",
              "      <td>[0, 0, 0, 0, 0, 0, 0, 0, 0, 0, 0, 0, 0, 0, 0, ...</td>\n",
              "      <td>[0.0, 0.0, 0.0, 0.0, 0.0, 0.0, 0.0, 0.0, 0.0, ...</td>\n",
              "    </tr>\n",
              "    <tr>\n",
              "      <th>2</th>\n",
              "      <td>id11008</td>\n",
              "      <td>In his left hand was a gold snuff box, from wh...</td>\n",
              "      <td>EAP</td>\n",
              "      <td>[in, left, hand, gold, snuff, box, capered, hi...</td>\n",
              "      <td>[0, 0, 0, 0, 0, 0, 0, 0, 0, 0, 0, 0, 0, 0, 0, ...</td>\n",
              "      <td>[0.0, 0.0, 0.0, 0.0, 0.0, 0.0, 0.0, 0.0, 0.0, ...</td>\n",
              "    </tr>\n",
              "    <tr>\n",
              "      <th>3</th>\n",
              "      <td>id27763</td>\n",
              "      <td>How lovely is spring As we looked from Windsor...</td>\n",
              "      <td>MWS</td>\n",
              "      <td>[how, lovely, spring, as, looked, windsor, ter...</td>\n",
              "      <td>[0, 0, 0, 0, 0, 0, 0, 0, 0, 0, 0, 0, 0, 0, 0, ...</td>\n",
              "      <td>[0.0, 0.0, 0.0, 0.0, 0.0, 0.0, 0.0, 0.0, 0.0, ...</td>\n",
              "    </tr>\n",
              "    <tr>\n",
              "      <th>4</th>\n",
              "      <td>id12958</td>\n",
              "      <td>Finding nothing else, not even gold, the Super...</td>\n",
              "      <td>HPL</td>\n",
              "      <td>[finding, nothing, else, even, gold, superinte...</td>\n",
              "      <td>[0, 0, 0, 0, 0, 0, 0, 1, 0, 0, 0, 0, 0, 0, 0, ...</td>\n",
              "      <td>[0.0, 0.0, 0.0, 0.0, 0.0, 0.0, 0.0, 0.40056854...</td>\n",
              "    </tr>\n",
              "    <tr>\n",
              "      <th>...</th>\n",
              "      <td>...</td>\n",
              "      <td>...</td>\n",
              "      <td>...</td>\n",
              "      <td>...</td>\n",
              "      <td>...</td>\n",
              "      <td>...</td>\n",
              "    </tr>\n",
              "    <tr>\n",
              "      <th>1952</th>\n",
              "      <td>id05165</td>\n",
              "      <td>\"I shall perish,\" said he, \"I must perish in t...</td>\n",
              "      <td>EAP</td>\n",
              "      <td>[i, shall, perish, said, i, must, perish, depl...</td>\n",
              "      <td>[0, 0, 0, 0, 0, 0, 0, 0, 0, 0, 0, 0, 0, 0, 0, ...</td>\n",
              "      <td>[0.0, 0.0, 0.0, 0.0, 0.0, 0.0, 0.0, 0.0, 0.0, ...</td>\n",
              "    </tr>\n",
              "    <tr>\n",
              "      <th>1953</th>\n",
              "      <td>id15764</td>\n",
              "      <td>Besides, there is Luchesi \" \"Enough,\" he said;...</td>\n",
              "      <td>EAP</td>\n",
              "      <td>[besides, luchesi, enough, said, cough, mere, ...</td>\n",
              "      <td>[0, 0, 0, 0, 0, 0, 0, 0, 0, 0, 0, 0, 0, 0, 0, ...</td>\n",
              "      <td>[0.0, 0.0, 0.0, 0.0, 0.0, 0.0, 0.0, 0.0, 0.0, ...</td>\n",
              "    </tr>\n",
              "    <tr>\n",
              "      <th>1954</th>\n",
              "      <td>id12273</td>\n",
              "      <td>To seek to describe it were useless for it was...</td>\n",
              "      <td>HPL</td>\n",
              "      <td>[to, seek, describe, useless, description, pos...</td>\n",
              "      <td>[0, 0, 0, 0, 0, 0, 0, 0, 0, 0, 0, 0, 0, 0, 0, ...</td>\n",
              "      <td>[0.0, 0.0, 0.0, 0.0, 0.0, 0.0, 0.0, 0.0, 0.0, ...</td>\n",
              "    </tr>\n",
              "    <tr>\n",
              "      <th>1955</th>\n",
              "      <td>id06119</td>\n",
              "      <td>While the objects around me while the carvings...</td>\n",
              "      <td>EAP</td>\n",
              "      <td>[while, objects, around, carvings, ceilings, s...</td>\n",
              "      <td>[0, 0, 0, 0, 0, 0, 0, 0, 0, 0, 0, 0, 0, 0, 0, ...</td>\n",
              "      <td>[0.0, 0.0, 0.0, 0.0, 0.0, 0.0, 0.0, 0.0, 0.0, ...</td>\n",
              "    </tr>\n",
              "    <tr>\n",
              "      <th>1956</th>\n",
              "      <td>id06335</td>\n",
              "      <td>\"Everybody was in a bad way them days.</td>\n",
              "      <td>HPL</td>\n",
              "      <td>[everybody, bad, way, days]</td>\n",
              "      <td>[0, 0, 0, 0, 0, 0, 0, 0, 0, 0, 0, 0, 0, 0, 0, ...</td>\n",
              "      <td>[0.0, 0.0, 0.0, 0.0, 0.0, 0.0, 0.0, 0.0, 0.0, ...</td>\n",
              "    </tr>\n",
              "  </tbody>\n",
              "</table>\n",
              "<p>1957 rows × 6 columns</p>\n",
              "</div>"
            ],
            "text/plain": [
              "           id  ...                                          tfidf_vec\n",
              "0     id26305  ...  [0.0, 0.0, 0.0, 0.0, 0.0, 0.0, 0.0, 0.0, 0.0, ...\n",
              "1     id17569  ...  [0.0, 0.0, 0.0, 0.0, 0.0, 0.0, 0.0, 0.0, 0.0, ...\n",
              "2     id11008  ...  [0.0, 0.0, 0.0, 0.0, 0.0, 0.0, 0.0, 0.0, 0.0, ...\n",
              "3     id27763  ...  [0.0, 0.0, 0.0, 0.0, 0.0, 0.0, 0.0, 0.0, 0.0, ...\n",
              "4     id12958  ...  [0.0, 0.0, 0.0, 0.0, 0.0, 0.0, 0.0, 0.40056854...\n",
              "...       ...  ...                                                ...\n",
              "1952  id05165  ...  [0.0, 0.0, 0.0, 0.0, 0.0, 0.0, 0.0, 0.0, 0.0, ...\n",
              "1953  id15764  ...  [0.0, 0.0, 0.0, 0.0, 0.0, 0.0, 0.0, 0.0, 0.0, ...\n",
              "1954  id12273  ...  [0.0, 0.0, 0.0, 0.0, 0.0, 0.0, 0.0, 0.0, 0.0, ...\n",
              "1955  id06119  ...  [0.0, 0.0, 0.0, 0.0, 0.0, 0.0, 0.0, 0.0, 0.0, ...\n",
              "1956  id06335  ...  [0.0, 0.0, 0.0, 0.0, 0.0, 0.0, 0.0, 0.0, 0.0, ...\n",
              "\n",
              "[1957 rows x 6 columns]"
            ]
          },
          "metadata": {},
          "execution_count": 14
        }
      ]
    },
    {
      "cell_type": "code",
      "metadata": {
        "colab": {
          "base_uri": "https://localhost:8080/",
          "height": 419
        },
        "id": "KjlJoQC15LUx",
        "outputId": "0ed3d3e3-860c-4801-d9f3-d0775513ba78"
      },
      "source": [
        "test_df"
      ],
      "execution_count": 15,
      "outputs": [
        {
          "output_type": "execute_result",
          "data": {
            "text/html": [
              "<div>\n",
              "<style scoped>\n",
              "    .dataframe tbody tr th:only-of-type {\n",
              "        vertical-align: middle;\n",
              "    }\n",
              "\n",
              "    .dataframe tbody tr th {\n",
              "        vertical-align: top;\n",
              "    }\n",
              "\n",
              "    .dataframe thead th {\n",
              "        text-align: right;\n",
              "    }\n",
              "</style>\n",
              "<table border=\"1\" class=\"dataframe\">\n",
              "  <thead>\n",
              "    <tr style=\"text-align: right;\">\n",
              "      <th></th>\n",
              "      <th>id</th>\n",
              "      <th>text</th>\n",
              "      <th>author</th>\n",
              "      <th>tokens</th>\n",
              "      <th>bag_vec</th>\n",
              "      <th>tfidf_vec</th>\n",
              "    </tr>\n",
              "  </thead>\n",
              "  <tbody>\n",
              "    <tr>\n",
              "      <th>17613</th>\n",
              "      <td>id08561</td>\n",
              "      <td>A lamp which had been accidentally left, full ...</td>\n",
              "      <td>EAP</td>\n",
              "      <td>[a, lamp, accidentally, left, full, oil, withi...</td>\n",
              "      <td>[1, 1, 0, 0, 0, 0, 0, 0, 0, 0, 0, 0, 0, 0, 0, ...</td>\n",
              "      <td>[0.698313753195164, 0.2871893093675274, 0.0, 0...</td>\n",
              "    </tr>\n",
              "    <tr>\n",
              "      <th>17614</th>\n",
              "      <td>id01432</td>\n",
              "      <td>I gave to each heroine of whom I read, her bea...</td>\n",
              "      <td>MWS</td>\n",
              "      <td>[i, gave, heroine, i, read, beauty, matchless,...</td>\n",
              "      <td>[4, 0, 0, 0, 0, 0, 0, 0, 0, 0, 0, 0, 0, 0, 0, ...</td>\n",
              "      <td>[1.5040603914972763, 0.0, 0.0, 0.0, 0.0, 0.0, ...</td>\n",
              "    </tr>\n",
              "    <tr>\n",
              "      <th>17615</th>\n",
              "      <td>id22037</td>\n",
              "      <td>He got in communication with Dr. Houghton of A...</td>\n",
              "      <td>HPL</td>\n",
              "      <td>[he, got, communication, dr, houghton, aylesbu...</td>\n",
              "      <td>[0, 0, 0, 0, 0, 0, 0, 0, 0, 0, 0, 0, 0, 0, 0, ...</td>\n",
              "      <td>[0.0, 0.0, 0.0, 0.0, 0.0, 0.0, 0.0, 0.0, 0.0, ...</td>\n",
              "    </tr>\n",
              "    <tr>\n",
              "      <th>17616</th>\n",
              "      <td>id22330</td>\n",
              "      <td>The trees of the frequent forest belts seem to...</td>\n",
              "      <td>HPL</td>\n",
              "      <td>[the, trees, frequent, forest, belts, seem, la...</td>\n",
              "      <td>[0, 0, 0, 0, 0, 0, 0, 0, 0, 0, 0, 0, 0, 0, 0, ...</td>\n",
              "      <td>[0.0, 0.0, 0.0, 0.0, 0.0, 0.0, 0.0, 0.0, 0.0, ...</td>\n",
              "    </tr>\n",
              "    <tr>\n",
              "      <th>17617</th>\n",
              "      <td>id26151</td>\n",
              "      <td>I then moved forward, and a murmuring sound ar...</td>\n",
              "      <td>MWS</td>\n",
              "      <td>[i, moved, forward, murmuring, sound, arose, c...</td>\n",
              "      <td>[1, 0, 0, 0, 0, 0, 0, 0, 0, 0, 0, 0, 0, 0, 0, ...</td>\n",
              "      <td>[0.44438147930601346, 0.0, 0.0, 0.0, 0.0, 0.0,...</td>\n",
              "    </tr>\n",
              "    <tr>\n",
              "      <th>...</th>\n",
              "      <td>...</td>\n",
              "      <td>...</td>\n",
              "      <td>...</td>\n",
              "      <td>...</td>\n",
              "      <td>...</td>\n",
              "      <td>...</td>\n",
              "    </tr>\n",
              "    <tr>\n",
              "      <th>19574</th>\n",
              "      <td>id17718</td>\n",
              "      <td>I could have fancied, while I looked at it, th...</td>\n",
              "      <td>EAP</td>\n",
              "      <td>[i, could, fancied, i, looked, eminent, landsc...</td>\n",
              "      <td>[0, 0, 0, 0, 0, 0, 0, 0, 0, 0, 0, 0, 0, 0, 0, ...</td>\n",
              "      <td>[0.0, 0.0, 0.0, 0.0, 0.0, 0.0, 0.0, 0.0, 0.0, ...</td>\n",
              "    </tr>\n",
              "    <tr>\n",
              "      <th>19575</th>\n",
              "      <td>id08973</td>\n",
              "      <td>The lids clenched themselves together as if in...</td>\n",
              "      <td>EAP</td>\n",
              "      <td>[the, lids, clenched, together, spasm]</td>\n",
              "      <td>[0, 0, 0, 0, 0, 0, 0, 0, 0, 0, 0, 0, 0, 0, 0, ...</td>\n",
              "      <td>[0.0, 0.0, 0.0, 0.0, 0.0, 0.0, 0.0, 0.0, 0.0, ...</td>\n",
              "    </tr>\n",
              "    <tr>\n",
              "      <th>19576</th>\n",
              "      <td>id05267</td>\n",
              "      <td>Mais il faut agir that is to say, a Frenchman ...</td>\n",
              "      <td>EAP</td>\n",
              "      <td>[mais, faut, agir, say, frenchman, never, fain...</td>\n",
              "      <td>[2, 0, 0, 0, 0, 0, 0, 0, 0, 0, 0, 0, 0, 0, 0, ...</td>\n",
              "      <td>[2.444098136183074, 0.0, 0.0, 0.0, 0.0, 0.0, 0...</td>\n",
              "    </tr>\n",
              "    <tr>\n",
              "      <th>19577</th>\n",
              "      <td>id17513</td>\n",
              "      <td>For an item of news like this, it strikes us i...</td>\n",
              "      <td>EAP</td>\n",
              "      <td>[for, item, news, like, strikes, us, coolly, r...</td>\n",
              "      <td>[0, 0, 0, 0, 0, 0, 0, 0, 0, 0, 0, 0, 0, 0, 0, ...</td>\n",
              "      <td>[0.0, 0.0, 0.0, 0.0, 0.0, 0.0, 0.0, 0.0, 0.0, ...</td>\n",
              "    </tr>\n",
              "    <tr>\n",
              "      <th>19578</th>\n",
              "      <td>id00393</td>\n",
              "      <td>He laid a gnarled claw on my shoulder, and it ...</td>\n",
              "      <td>HPL</td>\n",
              "      <td>[he, laid, gnarled, claw, shoulder, seemed, sh...</td>\n",
              "      <td>[0, 0, 0, 0, 0, 0, 0, 0, 0, 0, 0, 0, 0, 0, 0, ...</td>\n",
              "      <td>[0.0, 0.0, 0.0, 0.0, 0.0, 0.0, 0.0, 0.0, 0.0, ...</td>\n",
              "    </tr>\n",
              "  </tbody>\n",
              "</table>\n",
              "<p>1966 rows × 6 columns</p>\n",
              "</div>"
            ],
            "text/plain": [
              "            id  ...                                          tfidf_vec\n",
              "17613  id08561  ...  [0.698313753195164, 0.2871893093675274, 0.0, 0...\n",
              "17614  id01432  ...  [1.5040603914972763, 0.0, 0.0, 0.0, 0.0, 0.0, ...\n",
              "17615  id22037  ...  [0.0, 0.0, 0.0, 0.0, 0.0, 0.0, 0.0, 0.0, 0.0, ...\n",
              "17616  id22330  ...  [0.0, 0.0, 0.0, 0.0, 0.0, 0.0, 0.0, 0.0, 0.0, ...\n",
              "17617  id26151  ...  [0.44438147930601346, 0.0, 0.0, 0.0, 0.0, 0.0,...\n",
              "...        ...  ...                                                ...\n",
              "19574  id17718  ...  [0.0, 0.0, 0.0, 0.0, 0.0, 0.0, 0.0, 0.0, 0.0, ...\n",
              "19575  id08973  ...  [0.0, 0.0, 0.0, 0.0, 0.0, 0.0, 0.0, 0.0, 0.0, ...\n",
              "19576  id05267  ...  [2.444098136183074, 0.0, 0.0, 0.0, 0.0, 0.0, 0...\n",
              "19577  id17513  ...  [0.0, 0.0, 0.0, 0.0, 0.0, 0.0, 0.0, 0.0, 0.0, ...\n",
              "19578  id00393  ...  [0.0, 0.0, 0.0, 0.0, 0.0, 0.0, 0.0, 0.0, 0.0, ...\n",
              "\n",
              "[1966 rows x 6 columns]"
            ]
          },
          "metadata": {},
          "execution_count": 15
        }
      ]
    },
    {
      "cell_type": "code",
      "metadata": {
        "id": "TlqJCGLbiuLn"
      },
      "source": [
        "authors = {'EAP': 0, 'HPL': 1, 'MWS': 2}\n",
        "train_labels_list = []\n",
        "for train_df in train_dfs:\n",
        "    train_labels_list.append(np.array([authors[a] for a in train_df['author'].tolist()]))\n",
        "test_labels = np.array([authors[a] for a in test_df['author'].tolist()])\n",
        "\n",
        "train_bow_list = []\n",
        "for train_df in train_dfs:\n",
        "    train_bow_list.append(train_df['bag_vec'].tolist())\n",
        "test_bow = np.array(test_df['bag_vec'].tolist())\n",
        "\n",
        "train_tfidf_list = []\n",
        "for train_df in train_dfs:\n",
        "    train_tfidf_list.append(train_df['tfidf_vec'].tolist())\n",
        "test_tfidf = np.array(test_df['tfidf_vec'].tolist())\n"
      ],
      "execution_count": 25,
      "outputs": []
    },
    {
      "cell_type": "code",
      "metadata": {
        "id": "7sLYVUMt86ZX"
      },
      "source": [
        "def accuracy(output, labels):\n",
        "    true_indices = np.argwhere(output == labels)\n",
        "    acc = len(true_indices) / len(labels)\n",
        "    return acc"
      ],
      "execution_count": 31,
      "outputs": []
    },
    {
      "cell_type": "code",
      "metadata": {
        "id": "o1SsVboihTVt"
      },
      "source": [
        "# Bag of Words\n",
        "bow_clf = MultinomialNB()\n",
        "\n",
        "for i in range(len(train_bow_list)):\n",
        "    bow_clf.partial_fit(train_bow_list[i], train_labels_list[i], classes=range(3))"
      ],
      "execution_count": 26,
      "outputs": []
    },
    {
      "cell_type": "code",
      "metadata": {
        "colab": {
          "base_uri": "https://localhost:8080/"
        },
        "id": "9ukemecj8r31",
        "outputId": "c1e0cd3d-9d2d-4545-8b4a-3d0885926c20"
      },
      "source": [
        "print(len(train_bow_list), len(train_labels_list))"
      ],
      "execution_count": 27,
      "outputs": [
        {
          "output_type": "stream",
          "name": "stdout",
          "text": [
            "9 9\n"
          ]
        }
      ]
    },
    {
      "cell_type": "code",
      "metadata": {
        "id": "ESCWEXnTiOek"
      },
      "source": [
        "out = bow_clf.predict(test_bow)"
      ],
      "execution_count": 28,
      "outputs": []
    },
    {
      "cell_type": "code",
      "metadata": {
        "colab": {
          "base_uri": "https://localhost:8080/"
        },
        "id": "hAQTCrt9m1MX",
        "outputId": "ec953284-3e31-4104-ff5c-2bb222d9091a"
      },
      "source": [
        "accuracy(out, test_labels)"
      ],
      "execution_count": 32,
      "outputs": [
        {
          "output_type": "execute_result",
          "data": {
            "text/plain": [
              "0.8402848423194303"
            ]
          },
          "metadata": {},
          "execution_count": 32
        }
      ]
    },
    {
      "cell_type": "code",
      "metadata": {
        "id": "nQ7VKtvx9h5_"
      },
      "source": [
        "# TF-IDF\n",
        "tfidf_clf = MultinomialNB()\n",
        "\n",
        "for i in range(len(train_tfidf_list)):\n",
        "    tfidf_clf.partial_fit(train_tfidf_list[i], train_labels_list[i], classes=range(3))"
      ],
      "execution_count": 36,
      "outputs": []
    },
    {
      "cell_type": "code",
      "metadata": {
        "id": "cciyTwmK9w9o"
      },
      "source": [
        "out2 = tfidf_clf.predict(test_tfidf)"
      ],
      "execution_count": 37,
      "outputs": []
    },
    {
      "cell_type": "code",
      "metadata": {
        "colab": {
          "base_uri": "https://localhost:8080/"
        },
        "id": "O6LmQIgT90S5",
        "outputId": "adff0c79-5621-4695-b8da-134f6221020f"
      },
      "source": [
        "accuracy(out2, test_labels)"
      ],
      "execution_count": 38,
      "outputs": [
        {
          "output_type": "execute_result",
          "data": {
            "text/plain": [
              "0.8301119023397762"
            ]
          },
          "metadata": {},
          "execution_count": 38
        }
      ]
    },
    {
      "cell_type": "code",
      "metadata": {
        "colab": {
          "base_uri": "https://localhost:8080/"
        },
        "id": "56wn5zAioYxi",
        "outputId": "d654f3f6-a322-42ef-b0e6-d4a7339f8358"
      },
      "source": [
        "# Random\n",
        "randomn = np.random.randint(0, 3, size=len(test_labels))\n",
        "accuracy(randomn, test_labels)"
      ],
      "execution_count": 41,
      "outputs": [
        {
          "output_type": "execute_result",
          "data": {
            "text/plain": [
              "0.3336724313326551"
            ]
          },
          "metadata": {},
          "execution_count": 41
        }
      ]
    }
  ]
}